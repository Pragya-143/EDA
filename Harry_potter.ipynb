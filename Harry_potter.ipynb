{
 "cells": [
  {
   "cell_type": "code",
   "execution_count": 2,
   "id": "449b318d-2d5c-434f-83cd-bf36e9e9f201",
   "metadata": {},
   "outputs": [],
   "source": [
    "# loading and understanding dataset\n",
    "import pandas as pd\n",
    "import numpy as np\n",
    "import seaborn as sns\n",
    "import matplotlib.pyplot as plt\n"
   ]
  },
  {
   "cell_type": "code",
   "execution_count": 4,
   "id": "e7f18594-ca85-4b33-b8ac-1b54abe6e077",
   "metadata": {},
   "outputs": [],
   "source": [
    "# Load the dataset from pd\n",
    "df = pd.read_csv(\"harry_potter_1000_students.csv\")"
   ]
  },
  {
   "cell_type": "code",
   "execution_count": 6,
   "id": "4e054c49-eed3-4b25-909f-0cb221f6ea99",
   "metadata": {},
   "outputs": [
    {
     "data": {
      "text/html": [
       "<div>\n",
       "<style scoped>\n",
       "    .dataframe tbody tr th:only-of-type {\n",
       "        vertical-align: middle;\n",
       "    }\n",
       "\n",
       "    .dataframe tbody tr th {\n",
       "        vertical-align: top;\n",
       "    }\n",
       "\n",
       "    .dataframe thead th {\n",
       "        text-align: right;\n",
       "    }\n",
       "</style>\n",
       "<table border=\"1\" class=\"dataframe\">\n",
       "  <thead>\n",
       "    <tr style=\"text-align: right;\">\n",
       "      <th></th>\n",
       "      <th>Blood Status</th>\n",
       "      <th>Bravery</th>\n",
       "      <th>Intelligence</th>\n",
       "      <th>Loyalty</th>\n",
       "      <th>Ambition</th>\n",
       "      <th>Dark Arts Knowledge</th>\n",
       "      <th>Quidditch Skills</th>\n",
       "      <th>Dueling Skills</th>\n",
       "      <th>Creativity</th>\n",
       "      <th>House</th>\n",
       "    </tr>\n",
       "  </thead>\n",
       "  <tbody>\n",
       "    <tr>\n",
       "      <th>0</th>\n",
       "      <td>Half-blood</td>\n",
       "      <td>9</td>\n",
       "      <td>4</td>\n",
       "      <td>7</td>\n",
       "      <td>5</td>\n",
       "      <td>0</td>\n",
       "      <td>8</td>\n",
       "      <td>8</td>\n",
       "      <td>7</td>\n",
       "      <td>Gryffindor</td>\n",
       "    </tr>\n",
       "    <tr>\n",
       "      <th>1</th>\n",
       "      <td>Muggle-born</td>\n",
       "      <td>6</td>\n",
       "      <td>8</td>\n",
       "      <td>5</td>\n",
       "      <td>7</td>\n",
       "      <td>5</td>\n",
       "      <td>6</td>\n",
       "      <td>4</td>\n",
       "      <td>9</td>\n",
       "      <td>Ravenclaw</td>\n",
       "    </tr>\n",
       "    <tr>\n",
       "      <th>2</th>\n",
       "      <td>Pure-blood</td>\n",
       "      <td>1</td>\n",
       "      <td>4</td>\n",
       "      <td>7</td>\n",
       "      <td>7</td>\n",
       "      <td>1</td>\n",
       "      <td>4</td>\n",
       "      <td>4</td>\n",
       "      <td>6</td>\n",
       "      <td>Hufflepuff</td>\n",
       "    </tr>\n",
       "    <tr>\n",
       "      <th>3</th>\n",
       "      <td>Pure-blood</td>\n",
       "      <td>9</td>\n",
       "      <td>1</td>\n",
       "      <td>3</td>\n",
       "      <td>4</td>\n",
       "      <td>1</td>\n",
       "      <td>9</td>\n",
       "      <td>10</td>\n",
       "      <td>1</td>\n",
       "      <td>Gryffindor</td>\n",
       "    </tr>\n",
       "    <tr>\n",
       "      <th>4</th>\n",
       "      <td>Muggle-born</td>\n",
       "      <td>5</td>\n",
       "      <td>9</td>\n",
       "      <td>7</td>\n",
       "      <td>3</td>\n",
       "      <td>3</td>\n",
       "      <td>6</td>\n",
       "      <td>7</td>\n",
       "      <td>9</td>\n",
       "      <td>Ravenclaw</td>\n",
       "    </tr>\n",
       "  </tbody>\n",
       "</table>\n",
       "</div>"
      ],
      "text/plain": [
       "  Blood Status  Bravery  Intelligence  Loyalty  Ambition  Dark Arts Knowledge  \\\n",
       "0   Half-blood        9             4        7         5                    0   \n",
       "1  Muggle-born        6             8        5         7                    5   \n",
       "2   Pure-blood        1             4        7         7                    1   \n",
       "3   Pure-blood        9             1        3         4                    1   \n",
       "4  Muggle-born        5             9        7         3                    3   \n",
       "\n",
       "   Quidditch Skills  Dueling Skills  Creativity       House  \n",
       "0                 8               8           7  Gryffindor  \n",
       "1                 6               4           9   Ravenclaw  \n",
       "2                 4               4           6  Hufflepuff  \n",
       "3                 9              10           1  Gryffindor  \n",
       "4                 6               7           9   Ravenclaw  "
      ]
     },
     "execution_count": 6,
     "metadata": {},
     "output_type": "execute_result"
    }
   ],
   "source": [
    "# display first 5 rows\n",
    "df.head()"
   ]
  },
  {
   "cell_type": "code",
   "execution_count": 10,
   "id": "6fc84955-1c49-4e45-b625-3166b023af99",
   "metadata": {},
   "outputs": [
    {
     "name": "stdout",
     "output_type": "stream",
     "text": [
      "<class 'pandas.core.frame.DataFrame'>\n",
      "RangeIndex: 1000 entries, 0 to 999\n",
      "Data columns (total 10 columns):\n",
      " #   Column               Non-Null Count  Dtype \n",
      "---  ------               --------------  ----- \n",
      " 0   Blood Status         1000 non-null   object\n",
      " 1   Bravery              1000 non-null   int64 \n",
      " 2   Intelligence         1000 non-null   int64 \n",
      " 3   Loyalty              1000 non-null   int64 \n",
      " 4   Ambition             1000 non-null   int64 \n",
      " 5   Dark Arts Knowledge  1000 non-null   int64 \n",
      " 6   Quidditch Skills     1000 non-null   int64 \n",
      " 7   Dueling Skills       1000 non-null   int64 \n",
      " 8   Creativity           1000 non-null   int64 \n",
      " 9   House                1000 non-null   object\n",
      "dtypes: int64(8), object(2)\n",
      "memory usage: 78.3+ KB\n"
     ]
    }
   ],
   "source": [
    "# check data type and missing values\n",
    "df.info() # showa datatypes, no null counts\n",
    "# observation : no null value"
   ]
  },
  {
   "cell_type": "code",
   "execution_count": 14,
   "id": "2180aa7a-4ac4-43ca-a6d2-09463a35f18a",
   "metadata": {},
   "outputs": [
    {
     "data": {
      "text/html": [
       "<div>\n",
       "<style scoped>\n",
       "    .dataframe tbody tr th:only-of-type {\n",
       "        vertical-align: middle;\n",
       "    }\n",
       "\n",
       "    .dataframe tbody tr th {\n",
       "        vertical-align: top;\n",
       "    }\n",
       "\n",
       "    .dataframe thead th {\n",
       "        text-align: right;\n",
       "    }\n",
       "</style>\n",
       "<table border=\"1\" class=\"dataframe\">\n",
       "  <thead>\n",
       "    <tr style=\"text-align: right;\">\n",
       "      <th></th>\n",
       "      <th>Bravery</th>\n",
       "      <th>Intelligence</th>\n",
       "      <th>Loyalty</th>\n",
       "      <th>Ambition</th>\n",
       "      <th>Dark Arts Knowledge</th>\n",
       "      <th>Quidditch Skills</th>\n",
       "      <th>Dueling Skills</th>\n",
       "      <th>Creativity</th>\n",
       "    </tr>\n",
       "  </thead>\n",
       "  <tbody>\n",
       "    <tr>\n",
       "      <th>count</th>\n",
       "      <td>1000.000000</td>\n",
       "      <td>1000.00000</td>\n",
       "      <td>1000.000000</td>\n",
       "      <td>1000.000000</td>\n",
       "      <td>1000.000000</td>\n",
       "      <td>1000.00000</td>\n",
       "      <td>1000.000000</td>\n",
       "      <td>1000.000000</td>\n",
       "    </tr>\n",
       "    <tr>\n",
       "      <th>mean</th>\n",
       "      <td>5.026000</td>\n",
       "      <td>5.28100</td>\n",
       "      <td>5.129000</td>\n",
       "      <td>5.136000</td>\n",
       "      <td>4.040000</td>\n",
       "      <td>5.46000</td>\n",
       "      <td>6.223000</td>\n",
       "      <td>5.208000</td>\n",
       "    </tr>\n",
       "    <tr>\n",
       "      <th>std</th>\n",
       "      <td>2.682633</td>\n",
       "      <td>2.66179</td>\n",
       "      <td>2.695111</td>\n",
       "      <td>2.716041</td>\n",
       "      <td>3.112248</td>\n",
       "      <td>2.74881</td>\n",
       "      <td>2.833249</td>\n",
       "      <td>2.730969</td>\n",
       "    </tr>\n",
       "    <tr>\n",
       "      <th>min</th>\n",
       "      <td>1.000000</td>\n",
       "      <td>1.00000</td>\n",
       "      <td>1.000000</td>\n",
       "      <td>1.000000</td>\n",
       "      <td>0.000000</td>\n",
       "      <td>0.00000</td>\n",
       "      <td>1.000000</td>\n",
       "      <td>1.000000</td>\n",
       "    </tr>\n",
       "    <tr>\n",
       "      <th>25%</th>\n",
       "      <td>3.000000</td>\n",
       "      <td>3.00000</td>\n",
       "      <td>3.000000</td>\n",
       "      <td>3.000000</td>\n",
       "      <td>1.000000</td>\n",
       "      <td>4.00000</td>\n",
       "      <td>4.000000</td>\n",
       "      <td>3.000000</td>\n",
       "    </tr>\n",
       "    <tr>\n",
       "      <th>50%</th>\n",
       "      <td>5.000000</td>\n",
       "      <td>5.00000</td>\n",
       "      <td>5.000000</td>\n",
       "      <td>5.000000</td>\n",
       "      <td>3.000000</td>\n",
       "      <td>6.00000</td>\n",
       "      <td>7.000000</td>\n",
       "      <td>5.000000</td>\n",
       "    </tr>\n",
       "    <tr>\n",
       "      <th>75%</th>\n",
       "      <td>7.000000</td>\n",
       "      <td>7.00000</td>\n",
       "      <td>7.000000</td>\n",
       "      <td>7.000000</td>\n",
       "      <td>7.000000</td>\n",
       "      <td>7.00000</td>\n",
       "      <td>9.000000</td>\n",
       "      <td>7.000000</td>\n",
       "    </tr>\n",
       "    <tr>\n",
       "      <th>max</th>\n",
       "      <td>10.000000</td>\n",
       "      <td>10.00000</td>\n",
       "      <td>10.000000</td>\n",
       "      <td>10.000000</td>\n",
       "      <td>10.000000</td>\n",
       "      <td>10.00000</td>\n",
       "      <td>10.000000</td>\n",
       "      <td>10.000000</td>\n",
       "    </tr>\n",
       "  </tbody>\n",
       "</table>\n",
       "</div>"
      ],
      "text/plain": [
       "           Bravery  Intelligence      Loyalty     Ambition  \\\n",
       "count  1000.000000    1000.00000  1000.000000  1000.000000   \n",
       "mean      5.026000       5.28100     5.129000     5.136000   \n",
       "std       2.682633       2.66179     2.695111     2.716041   \n",
       "min       1.000000       1.00000     1.000000     1.000000   \n",
       "25%       3.000000       3.00000     3.000000     3.000000   \n",
       "50%       5.000000       5.00000     5.000000     5.000000   \n",
       "75%       7.000000       7.00000     7.000000     7.000000   \n",
       "max      10.000000      10.00000    10.000000    10.000000   \n",
       "\n",
       "       Dark Arts Knowledge  Quidditch Skills  Dueling Skills   Creativity  \n",
       "count          1000.000000        1000.00000     1000.000000  1000.000000  \n",
       "mean              4.040000           5.46000        6.223000     5.208000  \n",
       "std               3.112248           2.74881        2.833249     2.730969  \n",
       "min               0.000000           0.00000        1.000000     1.000000  \n",
       "25%               1.000000           4.00000        4.000000     3.000000  \n",
       "50%               3.000000           6.00000        7.000000     5.000000  \n",
       "75%               7.000000           7.00000        9.000000     7.000000  \n",
       "max              10.000000          10.00000       10.000000    10.000000  "
      ]
     },
     "execution_count": 14,
     "metadata": {},
     "output_type": "execute_result"
    }
   ],
   "source": [
    "# summary statistics of numerical column\n",
    "df.describe() # give count, mean, std, min, max,etc \n",
    "# observation : mean is 5 of all column "
   ]
  },
  {
   "cell_type": "code",
   "execution_count": 18,
   "id": "cf203f55-e03b-4238-9d69-ee4c2d94845a",
   "metadata": {},
   "outputs": [
    {
     "data": {
      "text/plain": [
       "Blood Status           0\n",
       "Bravery                0\n",
       "Intelligence           0\n",
       "Loyalty                0\n",
       "Ambition               0\n",
       "Dark Arts Knowledge    0\n",
       "Quidditch Skills       0\n",
       "Dueling Skills         0\n",
       "Creativity             0\n",
       "House                  0\n",
       "dtype: int64"
      ]
     },
     "execution_count": 18,
     "metadata": {},
     "output_type": "execute_result"
    }
   ],
   "source": [
    "# check missing value\n",
    "df.isnull().sum() # show total missing values per coulmn\n",
    "# observation :no missing value in column"
   ]
  },
  {
   "cell_type": "code",
   "execution_count": 22,
   "id": "99b60acb-c653-4d3e-ac48-db484699256b",
   "metadata": {},
   "outputs": [
    {
     "data": {
      "image/png": "[encoded data removed]",
      "text/plain": [
       "<Figure size 640x480 with 1 Axes>"
      ]
     },
     "metadata": {},
     "output_type": "display_data"
    }
   ],
   "source": [
    "# Boxplot of Age by Survival\n",
    "sns.boxplot(x='House', y='Bravery', data=df)\n",
    "plt.title(\"House distribution by bravery\")\n",
    "plt.show()\n",
    "# observation: greffindor house have more bravery then other three"
   ]
  },
  {
   "cell_type": "code",
   "execution_count": 28,
   "id": "ede51f85-a7b8-4bf6-9ec0-8605fd1f8136",
   "metadata": {},
   "outputs": [
    {
     "data": {
      "image/png": "[encoded data removed]",
      "text/plain": [
       "<Figure size 640x480 with 1 Axes>"
      ]
     },
     "metadata": {},
     "output_type": "display_data"
    }
   ],
   "source": [
    "# Pie Chart for Survival\n",
    "survived_counts = df['Blood Status'].value_counts()\n",
    "plt.pie(survived_counts, labels=['Half-blood', 'Muggle-blood', 'Pure-blood'], autopct='%1.1f%%', startangle=90)\n",
    "plt.title(\"Blood Status\")\n",
    "plt.show()\n",
    "#  Observation: pure blood students are 31%."
   ]
  },
  {
   "cell_type": "code",
   "execution_count": 44,
   "id": "afd5f192-31fc-45b2-bc0a-e0f267c881f8",
   "metadata": {},
   "outputs": [
    {
     "data": {
      "image/png": "[encoded data removed]",
      "text/plain": [
       "<Figure size 800x500 with 1 Axes>"
      ]
     },
     "metadata": {},
     "output_type": "display_data"
    }
   ],
   "source": [
    "# bar graph of student dustribution \n",
    "plt.figure(figsize=(8, 5))\n",
    "sns.countplot(x=df['House'])\n",
    "plt.title(\"Distribution of Students Across Hogwarts Houses\")\n",
    "plt.xlabel(\"Houses\")\n",
    "plt.ylabel(\"Count\")\n",
    "plt.show()\n"
   ]
  },
  {
   "cell_type": "code",
   "execution_count": null,
   "id": "e16a0cb8-0dc9-4550-af7d-62422281807d",
   "metadata": {},
   "outputs": [],
   "source": []
  }
 ],
 "metadata": {
  "kernelspec": {
   "display_name": "Python [conda env:base] *",
   "language": "python",
   "name": "conda-base-py"
  },
  "language_info": {
   "codemirror_mode": {
    "name": "ipython",
    "version": 3
   },
   "file_extension": ".py",
   "mimetype": "text/x-python",
   "name": "python",
   "nbconvert_exporter": "python",
   "pygments_lexer": "ipython3",
   "version": "3.12.7"
  }
 },
 "nbformat": 4,
 "nbformat_minor": 5
}
